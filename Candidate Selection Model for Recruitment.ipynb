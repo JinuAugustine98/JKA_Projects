{
 "cells": [
  {
   "cell_type": "code",
   "execution_count": 1,
   "metadata": {},
   "outputs": [],
   "source": [
    "from sklearn import datasets \n",
    "from sklearn.metrics import confusion_matrix \n",
    "from sklearn.model_selection import train_test_split "
   ]
  },
  {
   "cell_type": "code",
   "execution_count": 22,
   "metadata": {},
   "outputs": [
    {
     "name": "stdout",
     "output_type": "stream",
     "text": [
      "     ApplicationID Current City  \\\n",
      "0           MS0001         Pune   \n",
      "1           MS0002         Pune   \n",
      "2           MS0003  Navi Mumbai   \n",
      "3           MS0004    Bangalore   \n",
      "4           MS0005       Mumbai   \n",
      "...            ...          ...   \n",
      "2163        MS2164    Hyderabad   \n",
      "2164        MS2165    Bangalore   \n",
      "2165        MS2166       Nagpur   \n",
      "2166        MS2167       Kanpur   \n",
      "2167        MS2168     Durgapur   \n",
      "\n",
      "                                           Other skills  \\\n",
      "0                              Machine Learning, Python   \n",
      "1                              Machine Learning, Python   \n",
      "2     Data Analytics, Data Science, Machine Learning...   \n",
      "3     Data Analytics, Algorithms, C Programming, Dat...   \n",
      "4     Artifical Intelligence, Computer Vision, Deep ...   \n",
      "...                                                 ...   \n",
      "2163  Database Management System (DBMS), HTML, Pytho...   \n",
      "2164  CSS, Cloud Computing, HTML, PHP, Python, Andro...   \n",
      "2165                      CSS, HTML, JavaScript, Python   \n",
      "2166  Android, C Programming, C++ Programming, Pytho...   \n",
      "2167  C Programming, C++ Programming, JavaScript, CS...   \n",
      "\n",
      "                                              Institute  \\\n",
      "0                     Don Bosco Institute of Technology   \n",
      "1                                        PES MCOE, Pune   \n",
      "2                                    Imarticus Learning   \n",
      "3                          Dayananda Sagar Institutions   \n",
      "4     Pillai Hoc College Of Engineering And Technolo...   \n",
      "...                                                 ...   \n",
      "2163                      KIIT University, Bhubaneshwar   \n",
      "2164                              L. N. C . T. Jabalpur   \n",
      "2165                    Vellore Institute of Technology   \n",
      "2166       Kakatiya Institute of Technology and Science   \n",
      "2167  National Institute Of Electronics & Informatio...   \n",
      "\n",
      "                                     Degree  \\\n",
      "0             Bachelor of Engineering (B.E)   \n",
      "1             Bachelor of Engineering (B.E)   \n",
      "2                PG Diploma in Data Science   \n",
      "3           Bachelor of Technology (B.Tech)   \n",
      "4             Bachelor of Engineering (B.E)   \n",
      "...                                     ...   \n",
      "2163        Bachelor of Technology (B.Tech)   \n",
      "2164  Master of Computer Applications (MCA)   \n",
      "2165          Bachelor of Engineering (B.E)   \n",
      "2166        Bachelor of Technology (B.Tech)   \n",
      "2167  Master of Computer Applications (MCA)   \n",
      "\n",
      "                                                 Stream  \\\n",
      "0                                Mechanical Engineering   \n",
      "1     Electronics and Telecommunication Engineering ...   \n",
      "2                                                   NaN   \n",
      "3                                Information Technology   \n",
      "4                                Information Technology   \n",
      "...                                                 ...   \n",
      "2163                     Computer Science & Engineering   \n",
      "2164                               Computer Application   \n",
      "2165  Electronics and Telecommunication Engineering ...   \n",
      "2166                     Computer Science & Engineering   \n",
      "2167                               Computer Application   \n",
      "\n",
      "      CurrentYearOfGraduation Performance_PG Performance_UG Performance_12  \\\n",
      "0                        2018            NaN        8.13/10            NaN   \n",
      "1                        2018            NaN      66.00/100            NaN   \n",
      "2                        2020            NaN        7.00/10            NaN   \n",
      "3                        2022            NaN            NaN    86.80/86.80   \n",
      "4                        2020            NaN        6.22/10            NaN   \n",
      "...                       ...            ...            ...            ...   \n",
      "2163                     2020            NaN      75.00/100            NaN   \n",
      "2164                     2020        7.78/10        6.80/10            NaN   \n",
      "2165                     2020            NaN        6.10/10    62.62/62.62   \n",
      "2166                     2020            NaN        6.50/10    62.50/62.50   \n",
      "2167                     2020        6.40/10      63.06/100    64.00/64.00   \n",
      "\n",
      "     Performance_10  \n",
      "0               NaN  \n",
      "1               NaN  \n",
      "2               NaN  \n",
      "3       10.00/10.00  \n",
      "4               NaN  \n",
      "...             ...  \n",
      "2163            NaN  \n",
      "2164            NaN  \n",
      "2165            NaN  \n",
      "2166    76.50/76.50  \n",
      "2167    64.60/64.60  \n",
      "\n",
      "[2168 rows x 11 columns]\n"
     ]
    }
   ],
   "source": [
    "import pandas as pd\n",
    "df = pd.read_excel (r'C:\\Users\\Jinu Augustine\\Downloads\\sample_data_v4.xlsx')\n",
    "print (df)"
   ]
  },
  {
   "cell_type": "code",
   "execution_count": 23,
   "metadata": {},
   "outputs": [
    {
     "name": "stdout",
     "output_type": "stream",
     "text": [
      "(2168, 11)\n",
      "2168\n"
     ]
    },
    {
     "data": {
      "text/html": [
       "<div>\n",
       "<style scoped>\n",
       "    .dataframe tbody tr th:only-of-type {\n",
       "        vertical-align: middle;\n",
       "    }\n",
       "\n",
       "    .dataframe tbody tr th {\n",
       "        vertical-align: top;\n",
       "    }\n",
       "\n",
       "    .dataframe thead th {\n",
       "        text-align: right;\n",
       "    }\n",
       "</style>\n",
       "<table border=\"1\" class=\"dataframe\">\n",
       "  <thead>\n",
       "    <tr style=\"text-align: right;\">\n",
       "      <th></th>\n",
       "      <th>CurrentYearOfGraduation</th>\n",
       "    </tr>\n",
       "  </thead>\n",
       "  <tbody>\n",
       "    <tr>\n",
       "      <th>count</th>\n",
       "      <td>2168.000000</td>\n",
       "    </tr>\n",
       "    <tr>\n",
       "      <th>mean</th>\n",
       "      <td>2011.152214</td>\n",
       "    </tr>\n",
       "    <tr>\n",
       "      <th>std</th>\n",
       "      <td>129.901212</td>\n",
       "    </tr>\n",
       "    <tr>\n",
       "      <th>min</th>\n",
       "      <td>0.000000</td>\n",
       "    </tr>\n",
       "    <tr>\n",
       "      <th>25%</th>\n",
       "      <td>2019.000000</td>\n",
       "    </tr>\n",
       "    <tr>\n",
       "      <th>50%</th>\n",
       "      <td>2020.000000</td>\n",
       "    </tr>\n",
       "    <tr>\n",
       "      <th>75%</th>\n",
       "      <td>2021.000000</td>\n",
       "    </tr>\n",
       "    <tr>\n",
       "      <th>max</th>\n",
       "      <td>2024.000000</td>\n",
       "    </tr>\n",
       "  </tbody>\n",
       "</table>\n",
       "</div>"
      ],
      "text/plain": [
       "       CurrentYearOfGraduation\n",
       "count              2168.000000\n",
       "mean               2011.152214\n",
       "std                 129.901212\n",
       "min                   0.000000\n",
       "25%                2019.000000\n",
       "50%                2020.000000\n",
       "75%                2021.000000\n",
       "max                2024.000000"
      ]
     },
     "execution_count": 23,
     "metadata": {},
     "output_type": "execute_result"
    }
   ],
   "source": [
    "print(df.shape)\n",
    "\n",
    "num_of_classes = len(df.ApplicationID.unique())\n",
    "print(num_of_classes)\n",
    "\n",
    "df.describe()"
   ]
  },
  {
   "cell_type": "code",
   "execution_count": 25,
   "metadata": {},
   "outputs": [
    {
     "name": "stdout",
     "output_type": "stream",
     "text": [
      "(2168, 9)\n",
      "(2168,)\n"
     ]
    }
   ],
   "source": [
    "# split train input and output data\n",
    "X = df.drop(axis=0, columns=['ApplicationID', 'CurrentYearOfGraduation'])\n",
    "Y = df.ApplicationID\n",
    "\n",
    "#Print the shape of X and Y\n",
    "print(X.shape)\n",
    "print(Y.shape)"
   ]
  },
  {
   "cell_type": "code",
   "execution_count": 26,
   "metadata": {},
   "outputs": [],
   "source": [
    "from sklearn.model_selection import train_test_split\n",
    "\n",
    "# Split into training and test sets\n",
    "X_train, X_test, y_train, y_test = train_test_split(X, Y, test_size=0.33, random_state=42)"
   ]
  },
  {
   "cell_type": "code",
   "execution_count": 36,
   "metadata": {},
   "outputs": [
    {
     "name": "stdout",
     "output_type": "stream",
     "text": [
      "Accuracy:  97.36842105263158 %\n"
     ]
    },
    {
     "data": {
      "text/plain": [
       "<matplotlib.image.AxesImage at 0x206e481e088>"
      ]
     },
     "execution_count": 36,
     "metadata": {},
     "output_type": "execute_result"
    },
    {
     "data": {
      "image/png": "[encoded data removed]",
      "text/plain": [
       "<Figure size 432x288 with 1 Axes>"
      ]
     },
     "metadata": {
      "needs_background": "light"
     },
     "output_type": "display_data"
    }
   ],
   "source": [
    "# importing necessary libraries \n",
    "from sklearn import datasets \n",
    "from sklearn.metrics import confusion_matrix \n",
    "from sklearn.model_selection import train_test_split\n",
    "import matplotlib.pyplot as plt\n",
    "  \n",
    "# loading the dataset \n",
    "dataset_1 = df\n",
    "dataset_1 = datasets.load_iris() \n",
    "  \n",
    "# X -> features, y -> label \n",
    "X = dataset_1.data \n",
    "y = dataset_1.target \n",
    "  \n",
    "# dividing X, y into train and test data \n",
    "X_train, X_test, y_train, y_test = train_test_split(X, y, random_state = 0) \n",
    "  \n",
    "# training a linear SVM classifier \n",
    "from sklearn.svm import SVC \n",
    "svm_model_linear = SVC(kernel = 'linear', C = 1).fit(X_train, y_train) \n",
    "svm_predictions = svm_model_linear.predict(X_test) \n",
    "  \n",
    "# model accuracy for X_test   \n",
    "accuracy = svm_model_linear.score(X_test, y_test) \n",
    "print (\"Accuracy: \",accuracy*100,\"%\")\n",
    "  \n",
    "# creating a confusion matrix \n",
    "cm = confusion_matrix(y_test, svm_predictions)\n",
    "plt.imshow(cm, cmap='binary')"
   ]
  },
  {
   "cell_type": "code",
   "execution_count": 37,
   "metadata": {},
   "outputs": [
    {
     "data": {
      "text/html": [
       "<div>\n",
       "<style scoped>\n",
       "    .dataframe tbody tr th:only-of-type {\n",
       "        vertical-align: middle;\n",
       "    }\n",
       "\n",
       "    .dataframe tbody tr th {\n",
       "        vertical-align: top;\n",
       "    }\n",
       "\n",
       "    .dataframe thead th {\n",
       "        text-align: right;\n",
       "    }\n",
       "</style>\n",
       "<table border=\"1\" class=\"dataframe\">\n",
       "  <thead>\n",
       "    <tr style=\"text-align: right;\">\n",
       "      <th></th>\n",
       "      <th>Expected Output</th>\n",
       "      <th>Predicted Output</th>\n",
       "    </tr>\n",
       "  </thead>\n",
       "  <tbody>\n",
       "    <tr>\n",
       "      <th>0</th>\n",
       "      <td>2</td>\n",
       "      <td>2</td>\n",
       "    </tr>\n",
       "    <tr>\n",
       "      <th>1</th>\n",
       "      <td>1</td>\n",
       "      <td>1</td>\n",
       "    </tr>\n",
       "    <tr>\n",
       "      <th>2</th>\n",
       "      <td>0</td>\n",
       "      <td>0</td>\n",
       "    </tr>\n",
       "    <tr>\n",
       "      <th>3</th>\n",
       "      <td>2</td>\n",
       "      <td>2</td>\n",
       "    </tr>\n",
       "    <tr>\n",
       "      <th>4</th>\n",
       "      <td>0</td>\n",
       "      <td>0</td>\n",
       "    </tr>\n",
       "  </tbody>\n",
       "</table>\n",
       "</div>"
      ],
      "text/plain": [
       "   Expected Output  Predicted Output\n",
       "0                2                 2\n",
       "1                1                 1\n",
       "2                0                 0\n",
       "3                2                 2\n",
       "4                0                 0"
      ]
     },
     "execution_count": 37,
     "metadata": {},
     "output_type": "execute_result"
    }
   ],
   "source": [
    "output = pd.DataFrame()\n",
    "output['Expected Output'] = y_test\n",
    "output['Predicted Output'] = svm_predictions\n",
    "output.head()"
   ]
  },
  {
   "cell_type": "code",
   "execution_count": null,
   "metadata": {},
   "outputs": [],
   "source": []
  }
 ],
 "metadata": {
  "kernelspec": {
   "display_name": "Python 3",
   "language": "python",
   "name": "python3"
  },
  "language_info": {
   "codemirror_mode": {
    "name": "ipython",
    "version": 3
   },
   "file_extension": ".py",
   "mimetype": "text/x-python",
   "name": "python",
   "nbconvert_exporter": "python",
   "pygments_lexer": "ipython3",
   "version": "3.7.6"
  }
 },
 "nbformat": 4,
 "nbformat_minor": 4
}
